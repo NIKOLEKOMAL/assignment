{
 "cells": [
  {
   "cell_type": "code",
   "execution_count": 2,
   "id": "9592d87e",
   "metadata": {
    "ExecuteTime": {
     "end_time": "2022-11-24T05:05:25.249278Z",
     "start_time": "2022-11-24T05:05:25.239571Z"
    }
   },
   "outputs": [],
   "source": [
    "#creating lists"
   ]
  },
  {
   "cell_type": "code",
   "execution_count": 3,
   "id": "c9ab57f5",
   "metadata": {
    "ExecuteTime": {
     "end_time": "2022-11-24T05:05:57.191293Z",
     "start_time": "2022-11-24T05:05:57.176718Z"
    }
   },
   "outputs": [],
   "source": [
    "lst = []"
   ]
  },
  {
   "cell_type": "markdown",
   "id": "dfca3dcd",
   "metadata": {},
   "source": [
    "type(lst)"
   ]
  },
  {
   "cell_type": "code",
   "execution_count": 6,
   "id": "02941001",
   "metadata": {
    "ExecuteTime": {
     "end_time": "2022-11-24T05:09:08.455752Z",
     "start_time": "2022-11-24T05:09:08.442540Z"
    }
   },
   "outputs": [],
   "source": [
    "lst = [10,10.5,True,'Hello']"
   ]
  },
  {
   "cell_type": "code",
   "execution_count": 7,
   "id": "bb8498f0",
   "metadata": {
    "ExecuteTime": {
     "end_time": "2022-11-24T05:09:15.321025Z",
     "start_time": "2022-11-24T05:09:15.294081Z"
    }
   },
   "outputs": [
    {
     "data": {
      "text/plain": [
       "[10, 10.5, True, 'Hello']"
      ]
     },
     "execution_count": 7,
     "metadata": {},
     "output_type": "execute_result"
    }
   ],
   "source": [
    "lst"
   ]
  },
  {
   "cell_type": "code",
   "execution_count": 8,
   "id": "e2a5ac72",
   "metadata": {
    "ExecuteTime": {
     "end_time": "2022-11-24T05:10:18.984548Z",
     "start_time": "2022-11-24T05:10:18.967278Z"
    }
   },
   "outputs": [
    {
     "data": {
      "text/plain": [
       "'Hello'"
      ]
     },
     "execution_count": 8,
     "metadata": {},
     "output_type": "execute_result"
    }
   ],
   "source": [
    "#Accessing elements from a list\n",
    "lst[3]"
   ]
  },
  {
   "cell_type": "code",
   "execution_count": 9,
   "id": "6979c5c3",
   "metadata": {
    "ExecuteTime": {
     "end_time": "2022-11-24T05:11:13.881049Z",
     "start_time": "2022-11-24T05:11:13.864524Z"
    }
   },
   "outputs": [
    {
     "data": {
      "text/plain": [
       "[10.5, True]"
      ]
     },
     "execution_count": 9,
     "metadata": {},
     "output_type": "execute_result"
    }
   ],
   "source": [
    "lst[1:3]"
   ]
  },
  {
   "cell_type": "code",
   "execution_count": 10,
   "id": "cb200738",
   "metadata": {
    "ExecuteTime": {
     "end_time": "2022-11-24T05:11:30.185067Z",
     "start_time": "2022-11-24T05:11:30.174487Z"
    }
   },
   "outputs": [
    {
     "data": {
      "text/plain": [
       "'Hello'"
      ]
     },
     "execution_count": 10,
     "metadata": {},
     "output_type": "execute_result"
    }
   ],
   "source": [
    "lst[-1]"
   ]
  },
  {
   "cell_type": "code",
   "execution_count": 11,
   "id": "dac1d69d",
   "metadata": {
    "ExecuteTime": {
     "end_time": "2022-11-24T05:11:55.619229Z",
     "start_time": "2022-11-24T05:11:55.603593Z"
    }
   },
   "outputs": [],
   "source": [
    "#count"
   ]
  },
  {
   "cell_type": "code",
   "execution_count": 12,
   "id": "156352a3",
   "metadata": {
    "ExecuteTime": {
     "end_time": "2022-11-24T05:12:16.538280Z",
     "start_time": "2022-11-24T05:12:16.517866Z"
    }
   },
   "outputs": [
    {
     "data": {
      "text/plain": [
       "0"
      ]
     },
     "execution_count": 12,
     "metadata": {},
     "output_type": "execute_result"
    }
   ],
   "source": [
    "lst.count(1000)"
   ]
  },
  {
   "cell_type": "code",
   "execution_count": 13,
   "id": "20ed5af9",
   "metadata": {
    "ExecuteTime": {
     "end_time": "2022-11-24T05:12:53.594588Z",
     "start_time": "2022-11-24T05:12:53.579047Z"
    }
   },
   "outputs": [],
   "source": [
    "#index"
   ]
  },
  {
   "cell_type": "code",
   "execution_count": 14,
   "id": "f0acf933",
   "metadata": {
    "ExecuteTime": {
     "end_time": "2022-11-24T05:13:23.879426Z",
     "start_time": "2022-11-24T05:13:23.865884Z"
    }
   },
   "outputs": [
    {
     "data": {
      "text/plain": [
       "1"
      ]
     },
     "execution_count": 14,
     "metadata": {},
     "output_type": "execute_result"
    }
   ],
   "source": [
    "lst.index(10.5)"
   ]
  },
  {
   "cell_type": "code",
   "execution_count": 15,
   "id": "cf5f0a86",
   "metadata": {
    "ExecuteTime": {
     "end_time": "2022-11-24T05:13:30.821561Z",
     "start_time": "2022-11-24T05:13:30.799753Z"
    }
   },
   "outputs": [
    {
     "data": {
      "text/plain": [
       "[10, 10.5, True, 'Hello']"
      ]
     },
     "execution_count": 15,
     "metadata": {},
     "output_type": "execute_result"
    }
   ],
   "source": [
    "lst"
   ]
  },
  {
   "cell_type": "code",
   "execution_count": 16,
   "id": "42b5b139",
   "metadata": {
    "ExecuteTime": {
     "end_time": "2022-11-24T05:13:41.862517Z",
     "start_time": "2022-11-24T05:13:41.857132Z"
    }
   },
   "outputs": [],
   "source": [
    "#Append"
   ]
  },
  {
   "cell_type": "code",
   "execution_count": 17,
   "id": "97b475ce",
   "metadata": {
    "ExecuteTime": {
     "end_time": "2022-11-24T05:14:50.723058Z",
     "start_time": "2022-11-24T05:14:50.699570Z"
    }
   },
   "outputs": [],
   "source": [
    "lst.append(1000)"
   ]
  },
  {
   "cell_type": "code",
   "execution_count": 18,
   "id": "8a707c83",
   "metadata": {
    "ExecuteTime": {
     "end_time": "2022-11-24T05:15:00.577482Z",
     "start_time": "2022-11-24T05:15:00.566874Z"
    }
   },
   "outputs": [
    {
     "data": {
      "text/plain": [
       "[10, 10.5, True, 'Hello', 1000]"
      ]
     },
     "execution_count": 18,
     "metadata": {},
     "output_type": "execute_result"
    }
   ],
   "source": [
    "lst"
   ]
  },
  {
   "cell_type": "code",
   "execution_count": 19,
   "id": "808ae8d2",
   "metadata": {
    "ExecuteTime": {
     "end_time": "2022-11-24T05:15:13.127594Z",
     "start_time": "2022-11-24T05:15:13.111151Z"
    }
   },
   "outputs": [],
   "source": [
    "#insert"
   ]
  },
  {
   "cell_type": "code",
   "execution_count": 20,
   "id": "03303d18",
   "metadata": {
    "ExecuteTime": {
     "end_time": "2022-11-24T05:17:27.478912Z",
     "start_time": "2022-11-24T05:17:27.462935Z"
    }
   },
   "outputs": [],
   "source": [
    "lst.insert(0,50)"
   ]
  },
  {
   "cell_type": "code",
   "execution_count": 21,
   "id": "501323e3",
   "metadata": {
    "ExecuteTime": {
     "end_time": "2022-11-24T05:17:32.322031Z",
     "start_time": "2022-11-24T05:17:32.303103Z"
    }
   },
   "outputs": [
    {
     "data": {
      "text/plain": [
       "[50, 10, 10.5, True, 'Hello', 1000]"
      ]
     },
     "execution_count": 21,
     "metadata": {},
     "output_type": "execute_result"
    }
   ],
   "source": [
    "lst"
   ]
  },
  {
   "cell_type": "code",
   "execution_count": 22,
   "id": "f4994bcb",
   "metadata": {
    "ExecuteTime": {
     "end_time": "2022-11-24T05:18:03.243132Z",
     "start_time": "2022-11-24T05:18:03.233955Z"
    }
   },
   "outputs": [],
   "source": [
    "#pop"
   ]
  },
  {
   "cell_type": "code",
   "execution_count": 23,
   "id": "eca1ad31",
   "metadata": {
    "ExecuteTime": {
     "end_time": "2022-11-24T05:18:14.180876Z",
     "start_time": "2022-11-24T05:18:14.158665Z"
    }
   },
   "outputs": [
    {
     "data": {
      "text/plain": [
       "1000"
      ]
     },
     "execution_count": 23,
     "metadata": {},
     "output_type": "execute_result"
    }
   ],
   "source": [
    "lst.pop()"
   ]
  },
  {
   "cell_type": "code",
   "execution_count": 24,
   "id": "fee43216",
   "metadata": {
    "ExecuteTime": {
     "end_time": "2022-11-24T05:18:36.460214Z",
     "start_time": "2022-11-24T05:18:36.440303Z"
    }
   },
   "outputs": [
    {
     "data": {
      "text/plain": [
       "[50, 10, 10.5, True, 'Hello']"
      ]
     },
     "execution_count": 24,
     "metadata": {},
     "output_type": "execute_result"
    }
   ],
   "source": [
    "lst"
   ]
  },
  {
   "cell_type": "code",
   "execution_count": 25,
   "id": "ccc8afcd",
   "metadata": {
    "ExecuteTime": {
     "end_time": "2022-11-24T05:18:49.467441Z",
     "start_time": "2022-11-24T05:18:49.451583Z"
    }
   },
   "outputs": [],
   "source": [
    "#reverse"
   ]
  },
  {
   "cell_type": "code",
   "execution_count": 26,
   "id": "a6a65614",
   "metadata": {
    "ExecuteTime": {
     "end_time": "2022-11-24T05:19:09.510185Z",
     "start_time": "2022-11-24T05:19:09.489483Z"
    }
   },
   "outputs": [],
   "source": [
    "lst.reverse()"
   ]
  },
  {
   "cell_type": "code",
   "execution_count": 27,
   "id": "65fae9ce",
   "metadata": {
    "ExecuteTime": {
     "end_time": "2022-11-24T05:19:14.643729Z",
     "start_time": "2022-11-24T05:19:14.626574Z"
    }
   },
   "outputs": [
    {
     "data": {
      "text/plain": [
       "['Hello', True, 10.5, 10, 50]"
      ]
     },
     "execution_count": 27,
     "metadata": {},
     "output_type": "execute_result"
    }
   ],
   "source": [
    "lst"
   ]
  },
  {
   "cell_type": "code",
   "execution_count": 28,
   "id": "d550af45",
   "metadata": {
    "ExecuteTime": {
     "end_time": "2022-11-24T05:19:23.722355Z",
     "start_time": "2022-11-24T05:19:23.717333Z"
    }
   },
   "outputs": [],
   "source": [
    "#remove"
   ]
  },
  {
   "cell_type": "code",
   "execution_count": 30,
   "id": "86202e9e",
   "metadata": {
    "ExecuteTime": {
     "end_time": "2022-11-24T05:19:59.012721Z",
     "start_time": "2022-11-24T05:19:59.004030Z"
    }
   },
   "outputs": [],
   "source": [
    "lst.remove(10.5)"
   ]
  },
  {
   "cell_type": "code",
   "execution_count": 31,
   "id": "f2da581a",
   "metadata": {
    "ExecuteTime": {
     "end_time": "2022-11-24T05:20:05.597270Z",
     "start_time": "2022-11-24T05:20:05.586011Z"
    }
   },
   "outputs": [
    {
     "data": {
      "text/plain": [
       "['Hello', True, 10, 50]"
      ]
     },
     "execution_count": 31,
     "metadata": {},
     "output_type": "execute_result"
    }
   ],
   "source": [
    "lst"
   ]
  },
  {
   "cell_type": "code",
   "execution_count": 32,
   "id": "d4099042",
   "metadata": {
    "ExecuteTime": {
     "end_time": "2022-11-24T05:21:43.300536Z",
     "start_time": "2022-11-24T05:21:43.282439Z"
    }
   },
   "outputs": [],
   "source": [
    "#replacing elements in lists"
   ]
  },
  {
   "cell_type": "code",
   "execution_count": 33,
   "id": "812966dd",
   "metadata": {
    "ExecuteTime": {
     "end_time": "2022-11-24T05:22:10.446267Z",
     "start_time": "2022-11-24T05:22:10.428490Z"
    }
   },
   "outputs": [],
   "source": [
    "lst[1] = False"
   ]
  },
  {
   "cell_type": "code",
   "execution_count": 34,
   "id": "572fb47e",
   "metadata": {
    "ExecuteTime": {
     "end_time": "2022-11-24T05:22:20.116629Z",
     "start_time": "2022-11-24T05:22:20.107397Z"
    }
   },
   "outputs": [
    {
     "data": {
      "text/plain": [
       "['Hello', False, 10, 50]"
      ]
     },
     "execution_count": 34,
     "metadata": {},
     "output_type": "execute_result"
    }
   ],
   "source": [
    "lst"
   ]
  },
  {
   "cell_type": "code",
   "execution_count": 36,
   "id": "3918c57d",
   "metadata": {
    "ExecuteTime": {
     "end_time": "2022-11-24T05:43:14.051836Z",
     "start_time": "2022-11-24T05:43:14.045007Z"
    }
   },
   "outputs": [],
   "source": [
    "#create a Tuple\n",
    "\n",
    "t= (10,1.2,'Hi',1000,15.2)"
   ]
  },
  {
   "cell_type": "code",
   "execution_count": 37,
   "id": "64b7c24c",
   "metadata": {
    "ExecuteTime": {
     "end_time": "2022-11-24T05:43:38.995885Z",
     "start_time": "2022-11-24T05:43:38.980619Z"
    }
   },
   "outputs": [
    {
     "data": {
      "text/plain": [
       "tuple"
      ]
     },
     "execution_count": 37,
     "metadata": {},
     "output_type": "execute_result"
    }
   ],
   "source": [
    "type(t)"
   ]
  },
  {
   "cell_type": "code",
   "execution_count": 38,
   "id": "c9e77a9f",
   "metadata": {
    "ExecuteTime": {
     "end_time": "2022-11-24T05:43:45.595134Z",
     "start_time": "2022-11-24T05:43:45.575677Z"
    }
   },
   "outputs": [
    {
     "data": {
      "text/plain": [
       "(10, 1.2, 'Hi', 1000, 15.2)"
      ]
     },
     "execution_count": 38,
     "metadata": {},
     "output_type": "execute_result"
    }
   ],
   "source": [
    "t"
   ]
  },
  {
   "cell_type": "code",
   "execution_count": 39,
   "id": "fcd9d6c1",
   "metadata": {
    "ExecuteTime": {
     "end_time": "2022-11-24T05:44:00.226812Z",
     "start_time": "2022-11-24T05:44:00.211054Z"
    }
   },
   "outputs": [
    {
     "data": {
      "text/plain": [
       "1"
      ]
     },
     "execution_count": 39,
     "metadata": {},
     "output_type": "execute_result"
    }
   ],
   "source": [
    "t.count(1000)"
   ]
  },
  {
   "cell_type": "code",
   "execution_count": 40,
   "id": "de9182c4",
   "metadata": {
    "ExecuteTime": {
     "end_time": "2022-11-24T05:44:08.710718Z",
     "start_time": "2022-11-24T05:44:08.691529Z"
    }
   },
   "outputs": [
    {
     "data": {
      "text/plain": [
       "(10, 1.2, 'Hi', 1000, 15.2)"
      ]
     },
     "execution_count": 40,
     "metadata": {},
     "output_type": "execute_result"
    }
   ],
   "source": [
    "t"
   ]
  },
  {
   "cell_type": "code",
   "execution_count": 41,
   "id": "c9b3e623",
   "metadata": {
    "ExecuteTime": {
     "end_time": "2022-11-24T05:45:16.920139Z",
     "start_time": "2022-11-24T05:45:16.901503Z"
    }
   },
   "outputs": [],
   "source": [
    "#Accessing  elements from tuple"
   ]
  },
  {
   "cell_type": "code",
   "execution_count": 42,
   "id": "70f56ca1",
   "metadata": {
    "ExecuteTime": {
     "end_time": "2022-11-24T05:45:39.309036Z",
     "start_time": "2022-11-24T05:45:39.299051Z"
    }
   },
   "outputs": [
    {
     "data": {
      "text/plain": [
       "15.2"
      ]
     },
     "execution_count": 42,
     "metadata": {},
     "output_type": "execute_result"
    }
   ],
   "source": [
    "t[4]"
   ]
  },
  {
   "cell_type": "code",
   "execution_count": 43,
   "id": "8357fab4",
   "metadata": {
    "ExecuteTime": {
     "end_time": "2022-11-24T05:45:56.982002Z",
     "start_time": "2022-11-24T05:45:56.972874Z"
    }
   },
   "outputs": [],
   "source": [
    "#Replacing element "
   ]
  },
  {
   "cell_type": "code",
   "execution_count": 44,
   "id": "f4b2e76b",
   "metadata": {
    "ExecuteTime": {
     "end_time": "2022-11-24T05:46:02.717443Z",
     "start_time": "2022-11-24T05:46:02.704607Z"
    }
   },
   "outputs": [
    {
     "data": {
      "text/plain": [
       "(10, 1.2, 'Hi', 1000, 15.2)"
      ]
     },
     "execution_count": 44,
     "metadata": {},
     "output_type": "execute_result"
    }
   ],
   "source": [
    "t"
   ]
  },
  {
   "cell_type": "code",
   "execution_count": 45,
   "id": "32bd5570",
   "metadata": {
    "ExecuteTime": {
     "end_time": "2022-11-24T05:46:35.700432Z",
     "start_time": "2022-11-24T05:46:35.688963Z"
    }
   },
   "outputs": [],
   "source": [
    "t=list(t)"
   ]
  },
  {
   "cell_type": "code",
   "execution_count": 46,
   "id": "338c6ff9",
   "metadata": {
    "ExecuteTime": {
     "end_time": "2022-11-24T05:46:45.773967Z",
     "start_time": "2022-11-24T05:46:45.764495Z"
    }
   },
   "outputs": [
    {
     "data": {
      "text/plain": [
       "list"
      ]
     },
     "execution_count": 46,
     "metadata": {},
     "output_type": "execute_result"
    }
   ],
   "source": [
    "type(t)"
   ]
  },
  {
   "cell_type": "code",
   "execution_count": 47,
   "id": "45f35c0b",
   "metadata": {
    "ExecuteTime": {
     "end_time": "2022-11-24T05:47:01.459294Z",
     "start_time": "2022-11-24T05:47:01.443551Z"
    }
   },
   "outputs": [],
   "source": [
    "t[4] = 200"
   ]
  },
  {
   "cell_type": "code",
   "execution_count": 48,
   "id": "832c8f37",
   "metadata": {
    "ExecuteTime": {
     "end_time": "2022-11-24T05:47:07.896430Z",
     "start_time": "2022-11-24T05:47:07.883896Z"
    }
   },
   "outputs": [
    {
     "data": {
      "text/plain": [
       "[10, 1.2, 'Hi', 1000, 200]"
      ]
     },
     "execution_count": 48,
     "metadata": {},
     "output_type": "execute_result"
    }
   ],
   "source": [
    "t"
   ]
  },
  {
   "cell_type": "code",
   "execution_count": 49,
   "id": "3e619991",
   "metadata": {
    "ExecuteTime": {
     "end_time": "2022-11-24T05:47:44.355970Z",
     "start_time": "2022-11-24T05:47:44.347950Z"
    }
   },
   "outputs": [],
   "source": [
    "t=tuple(t)"
   ]
  },
  {
   "cell_type": "code",
   "execution_count": 50,
   "id": "3136d512",
   "metadata": {
    "ExecuteTime": {
     "end_time": "2022-11-24T05:47:50.099418Z",
     "start_time": "2022-11-24T05:47:50.078024Z"
    }
   },
   "outputs": [
    {
     "data": {
      "text/plain": [
       "(10, 1.2, 'Hi', 1000, 200)"
      ]
     },
     "execution_count": 50,
     "metadata": {},
     "output_type": "execute_result"
    }
   ],
   "source": [
    "t"
   ]
  },
  {
   "cell_type": "code",
   "execution_count": 51,
   "id": "1d9231fa",
   "metadata": {
    "ExecuteTime": {
     "end_time": "2022-11-24T05:48:15.749559Z",
     "start_time": "2022-11-24T05:48:15.731870Z"
    }
   },
   "outputs": [
    {
     "data": {
      "text/plain": [
       "tuple"
      ]
     },
     "execution_count": 51,
     "metadata": {},
     "output_type": "execute_result"
    }
   ],
   "source": [
    "type(t)"
   ]
  },
  {
   "cell_type": "code",
   "execution_count": 52,
   "id": "3501cdc1",
   "metadata": {
    "ExecuteTime": {
     "end_time": "2022-11-24T05:49:01.900162Z",
     "start_time": "2022-11-24T05:49:01.879097Z"
    }
   },
   "outputs": [],
   "source": [
    "#Dictionary an empty dictionary"
   ]
  },
  {
   "cell_type": "code",
   "execution_count": 53,
   "id": "71f3433f",
   "metadata": {
    "ExecuteTime": {
     "end_time": "2022-11-24T05:49:24.680988Z",
     "start_time": "2022-11-24T05:49:24.655204Z"
    }
   },
   "outputs": [
    {
     "data": {
      "text/plain": [
       "dict"
      ]
     },
     "execution_count": 53,
     "metadata": {},
     "output_type": "execute_result"
    }
   ],
   "source": [
    "d = {}\n",
    "type(d)"
   ]
  },
  {
   "cell_type": "code",
   "execution_count": 55,
   "id": "44603fa7",
   "metadata": {
    "ExecuteTime": {
     "end_time": "2022-11-24T05:50:08.169018Z",
     "start_time": "2022-11-24T05:50:08.154661Z"
    }
   },
   "outputs": [
    {
     "data": {
      "text/plain": [
       "dict"
      ]
     },
     "execution_count": 55,
     "metadata": {},
     "output_type": "execute_result"
    }
   ],
   "source": [
    "d1= dict()\n",
    "type(d1)"
   ]
  },
  {
   "cell_type": "code",
   "execution_count": 56,
   "id": "6f162ec0",
   "metadata": {
    "ExecuteTime": {
     "end_time": "2022-11-24T05:50:51.648803Z",
     "start_time": "2022-11-24T05:50:51.636243Z"
    }
   },
   "outputs": [],
   "source": [
    "#Adding elements in a dicitonary"
   ]
  },
  {
   "cell_type": "code",
   "execution_count": 57,
   "id": "b5898f92",
   "metadata": {
    "ExecuteTime": {
     "end_time": "2022-11-24T05:51:46.763556Z",
     "start_time": "2022-11-24T05:51:46.735458Z"
    }
   },
   "outputs": [],
   "source": [
    "d={1:10,2:'A',3:True}"
   ]
  },
  {
   "cell_type": "code",
   "execution_count": 58,
   "id": "ed1ee356",
   "metadata": {
    "ExecuteTime": {
     "end_time": "2022-11-24T05:51:50.664763Z",
     "start_time": "2022-11-24T05:51:50.637030Z"
    }
   },
   "outputs": [
    {
     "data": {
      "text/plain": [
       "{1: 10, 2: 'A', 3: True}"
      ]
     },
     "execution_count": 58,
     "metadata": {},
     "output_type": "execute_result"
    }
   ],
   "source": [
    "d"
   ]
  },
  {
   "cell_type": "code",
   "execution_count": 59,
   "id": "ba3ccffe",
   "metadata": {
    "ExecuteTime": {
     "end_time": "2022-11-24T05:52:08.228888Z",
     "start_time": "2022-11-24T05:52:08.203078Z"
    }
   },
   "outputs": [],
   "source": [
    "#get"
   ]
  },
  {
   "cell_type": "code",
   "execution_count": 60,
   "id": "ba878eff",
   "metadata": {
    "ExecuteTime": {
     "end_time": "2022-11-24T05:53:40.107651Z",
     "start_time": "2022-11-24T05:53:40.093174Z"
    }
   },
   "outputs": [
    {
     "data": {
      "text/plain": [
       "'A'"
      ]
     },
     "execution_count": 60,
     "metadata": {},
     "output_type": "execute_result"
    }
   ],
   "source": [
    "d.get(2)"
   ]
  },
  {
   "cell_type": "code",
   "execution_count": 61,
   "id": "797be987",
   "metadata": {
    "ExecuteTime": {
     "end_time": "2022-11-24T05:53:53.313533Z",
     "start_time": "2022-11-24T05:53:53.295332Z"
    }
   },
   "outputs": [],
   "source": [
    "#items"
   ]
  },
  {
   "cell_type": "code",
   "execution_count": 62,
   "id": "11411bb8",
   "metadata": {
    "ExecuteTime": {
     "end_time": "2022-11-24T05:54:04.940886Z",
     "start_time": "2022-11-24T05:54:04.928124Z"
    }
   },
   "outputs": [
    {
     "data": {
      "text/plain": [
       "dict_items([(1, 10), (2, 'A'), (3, True)])"
      ]
     },
     "execution_count": 62,
     "metadata": {},
     "output_type": "execute_result"
    }
   ],
   "source": [
    "d.items()"
   ]
  },
  {
   "cell_type": "code",
   "execution_count": 63,
   "id": "5d0c12a1",
   "metadata": {
    "ExecuteTime": {
     "end_time": "2022-11-24T05:54:12.899935Z",
     "start_time": "2022-11-24T05:54:12.881437Z"
    }
   },
   "outputs": [],
   "source": [
    "#keys"
   ]
  },
  {
   "cell_type": "code",
   "execution_count": 64,
   "id": "1163cab5",
   "metadata": {
    "ExecuteTime": {
     "end_time": "2022-11-24T05:54:21.263891Z",
     "start_time": "2022-11-24T05:54:21.247681Z"
    }
   },
   "outputs": [
    {
     "data": {
      "text/plain": [
       "dict_keys([1, 2, 3])"
      ]
     },
     "execution_count": 64,
     "metadata": {},
     "output_type": "execute_result"
    }
   ],
   "source": [
    "d.keys()"
   ]
  },
  {
   "cell_type": "code",
   "execution_count": 65,
   "id": "11c82a7a",
   "metadata": {
    "ExecuteTime": {
     "end_time": "2022-11-24T05:57:28.797793Z",
     "start_time": "2022-11-24T05:57:28.776543Z"
    }
   },
   "outputs": [],
   "source": [
    "#Adding values in dictionary update\n",
    "d.update({'car':'bmw'})"
   ]
  },
  {
   "cell_type": "code",
   "execution_count": 66,
   "id": "0fc50b26",
   "metadata": {
    "ExecuteTime": {
     "end_time": "2022-11-24T05:57:35.428408Z",
     "start_time": "2022-11-24T05:57:35.415377Z"
    }
   },
   "outputs": [
    {
     "data": {
      "text/plain": [
       "{1: 10, 2: 'A', 3: True, 'car': 'bmw'}"
      ]
     },
     "execution_count": 66,
     "metadata": {},
     "output_type": "execute_result"
    }
   ],
   "source": [
    "d"
   ]
  },
  {
   "cell_type": "code",
   "execution_count": 67,
   "id": "e2ae1a17",
   "metadata": {
    "ExecuteTime": {
     "end_time": "2022-11-24T05:57:44.493803Z",
     "start_time": "2022-11-24T05:57:44.479259Z"
    }
   },
   "outputs": [],
   "source": [
    "#pop"
   ]
  },
  {
   "cell_type": "code",
   "execution_count": 68,
   "id": "b728dcba",
   "metadata": {
    "ExecuteTime": {
     "end_time": "2022-11-24T05:58:15.250188Z",
     "start_time": "2022-11-24T05:58:15.226238Z"
    }
   },
   "outputs": [
    {
     "data": {
      "text/plain": [
       "True"
      ]
     },
     "execution_count": 68,
     "metadata": {},
     "output_type": "execute_result"
    }
   ],
   "source": [
    " d.pop(3)"
   ]
  },
  {
   "cell_type": "code",
   "execution_count": 69,
   "id": "a419d283",
   "metadata": {
    "ExecuteTime": {
     "end_time": "2022-11-24T05:58:20.467123Z",
     "start_time": "2022-11-24T05:58:20.452875Z"
    }
   },
   "outputs": [
    {
     "data": {
      "text/plain": [
       "{1: 10, 2: 'A', 'car': 'bmw'}"
      ]
     },
     "execution_count": 69,
     "metadata": {},
     "output_type": "execute_result"
    }
   ],
   "source": [
    "d"
   ]
  },
  {
   "cell_type": "code",
   "execution_count": 72,
   "id": "5312db47",
   "metadata": {
    "ExecuteTime": {
     "end_time": "2022-11-24T06:00:35.467133Z",
     "start_time": "2022-11-24T06:00:35.455593Z"
    }
   },
   "outputs": [],
   "source": [
    "#values"
   ]
  },
  {
   "cell_type": "code",
   "execution_count": 73,
   "id": "f0b090e5",
   "metadata": {
    "ExecuteTime": {
     "end_time": "2022-11-24T06:00:37.691010Z",
     "start_time": "2022-11-24T06:00:37.674465Z"
    }
   },
   "outputs": [
    {
     "data": {
      "text/plain": [
       "dict_values([10, 'A', 'bmw'])"
      ]
     },
     "execution_count": 73,
     "metadata": {},
     "output_type": "execute_result"
    }
   ],
   "source": [
    "d.values()"
   ]
  },
  {
   "cell_type": "code",
   "execution_count": 75,
   "id": "92285cbc",
   "metadata": {
    "ExecuteTime": {
     "end_time": "2022-11-24T06:10:47.692681Z",
     "start_time": "2022-11-24T06:10:47.671737Z"
    }
   },
   "outputs": [
    {
     "data": {
      "text/plain": [
       "{1, 10.5, 2, 3, 'A'}"
      ]
     },
     "execution_count": 75,
     "metadata": {},
     "output_type": "execute_result"
    }
   ],
   "source": [
    "#creating an empty set\n",
    "\n",
    "s={1,2,3,10.5,'A'}\n",
    "type(s)\n",
    "s"
   ]
  },
  {
   "cell_type": "code",
   "execution_count": 76,
   "id": "d7f48749",
   "metadata": {
    "ExecuteTime": {
     "end_time": "2022-11-24T06:12:19.173256Z",
     "start_time": "2022-11-24T06:12:19.151316Z"
    }
   },
   "outputs": [
    {
     "data": {
      "text/plain": [
       "{1, 2, 3, 4, 5}"
      ]
     },
     "execution_count": 76,
     "metadata": {},
     "output_type": "execute_result"
    }
   ],
   "source": [
    "#Does not allow duplicate items\n",
    "s1={1,2,3,4,5}\n",
    "s1"
   ]
  },
  {
   "cell_type": "code",
   "execution_count": 77,
   "id": "5de1aea4",
   "metadata": {
    "ExecuteTime": {
     "end_time": "2022-11-24T06:12:27.258441Z",
     "start_time": "2022-11-24T06:12:27.236499Z"
    }
   },
   "outputs": [
    {
     "data": {
      "text/plain": [
       "{1, 10.5, 2, 3, 'A'}"
      ]
     },
     "execution_count": 77,
     "metadata": {},
     "output_type": "execute_result"
    }
   ],
   "source": [
    "s"
   ]
  },
  {
   "cell_type": "code",
   "execution_count": 78,
   "id": "b58bf2e8",
   "metadata": {
    "ExecuteTime": {
     "end_time": "2022-11-24T06:13:28.556850Z",
     "start_time": "2022-11-24T06:13:28.541925Z"
    }
   },
   "outputs": [
    {
     "ename": "SyntaxError",
     "evalue": "invalid syntax (1700068329.py, line 2)",
     "output_type": "error",
     "traceback": [
      "\u001b[1;36m  File \u001b[1;32m\"C:\\Users\\SHIVDAS\\AppData\\Local\\Temp\\ipykernel_6592\\1700068329.py\"\u001b[1;36m, line \u001b[1;32m2\u001b[0m\n\u001b[1;33m    s{-1}\u001b[0m\n\u001b[1;37m     ^\u001b[0m\n\u001b[1;31mSyntaxError\u001b[0m\u001b[1;31m:\u001b[0m invalid syntax\n"
     ]
    }
   ],
   "source": [
    "#Does not support indexing\n",
    "s{s-1}"
   ]
  },
  {
   "cell_type": "code",
   "execution_count": 79,
   "id": "ce6204bb",
   "metadata": {
    "ExecuteTime": {
     "end_time": "2022-11-24T06:14:25.534346Z",
     "start_time": "2022-11-24T06:14:25.520380Z"
    }
   },
   "outputs": [
    {
     "data": {
      "text/plain": [
       "{1, 10.5, 100, 2, 3, 'A'}"
      ]
     },
     "execution_count": 79,
     "metadata": {},
     "output_type": "execute_result"
    }
   ],
   "source": [
    "#Add\n",
    "s.add(100)\n",
    "s"
   ]
  },
  {
   "cell_type": "code",
   "execution_count": 80,
   "id": "b5b7ccf5",
   "metadata": {
    "ExecuteTime": {
     "end_time": "2022-11-24T06:15:49.694753Z",
     "start_time": "2022-11-24T06:15:49.681786Z"
    }
   },
   "outputs": [],
   "source": [
    "a ={'apple','mango','cherry'}\n",
    "b = {'microsoft','google','cherry'}"
   ]
  },
  {
   "cell_type": "code",
   "execution_count": 81,
   "id": "f07d426d",
   "metadata": {
    "ExecuteTime": {
     "end_time": "2022-11-24T06:16:07.232677Z",
     "start_time": "2022-11-24T06:16:07.224736Z"
    }
   },
   "outputs": [],
   "source": [
    "#Difference"
   ]
  },
  {
   "cell_type": "code",
   "execution_count": 82,
   "id": "47f16893",
   "metadata": {
    "ExecuteTime": {
     "end_time": "2022-11-24T06:16:38.377249Z",
     "start_time": "2022-11-24T06:16:38.356305Z"
    }
   },
   "outputs": [
    {
     "data": {
      "text/plain": [
       "{'apple', 'mango'}"
      ]
     },
     "execution_count": 82,
     "metadata": {},
     "output_type": "execute_result"
    }
   ],
   "source": [
    "a.difference(b)"
   ]
  },
  {
   "cell_type": "code",
   "execution_count": 83,
   "id": "a7981d82",
   "metadata": {
    "ExecuteTime": {
     "end_time": "2022-11-24T06:16:57.087733Z",
     "start_time": "2022-11-24T06:16:57.066751Z"
    }
   },
   "outputs": [
    {
     "data": {
      "text/plain": [
       "{'google', 'microsoft'}"
      ]
     },
     "execution_count": 83,
     "metadata": {},
     "output_type": "execute_result"
    }
   ],
   "source": [
    "b.difference(a)"
   ]
  },
  {
   "cell_type": "code",
   "execution_count": 84,
   "id": "77d5a94a",
   "metadata": {
    "ExecuteTime": {
     "end_time": "2022-11-24T06:17:16.477772Z",
     "start_time": "2022-11-24T06:17:16.464801Z"
    }
   },
   "outputs": [],
   "source": [
    "#intersection"
   ]
  },
  {
   "cell_type": "code",
   "execution_count": 85,
   "id": "365eb276",
   "metadata": {
    "ExecuteTime": {
     "end_time": "2022-11-24T06:17:54.150689Z",
     "start_time": "2022-11-24T06:17:54.135693Z"
    }
   },
   "outputs": [
    {
     "data": {
      "text/plain": [
       "{'cherry'}"
      ]
     },
     "execution_count": 85,
     "metadata": {},
     "output_type": "execute_result"
    }
   ],
   "source": [
    "a.intersection(b)"
   ]
  },
  {
   "cell_type": "code",
   "execution_count": 86,
   "id": "28806172",
   "metadata": {
    "ExecuteTime": {
     "end_time": "2022-11-24T06:18:08.546298Z",
     "start_time": "2022-11-24T06:18:08.538296Z"
    }
   },
   "outputs": [],
   "source": [
    "#union"
   ]
  },
  {
   "cell_type": "code",
   "execution_count": 88,
   "id": "ba9106d8",
   "metadata": {
    "ExecuteTime": {
     "end_time": "2022-11-24T06:20:21.599651Z",
     "start_time": "2022-11-24T06:20:21.589675Z"
    }
   },
   "outputs": [
    {
     "data": {
      "text/plain": [
       "{'apple', 'cherry', 'google', 'mango', 'microsoft'}"
      ]
     },
     "execution_count": 88,
     "metadata": {},
     "output_type": "execute_result"
    }
   ],
   "source": [
    "a.union(b)"
   ]
  },
  {
   "cell_type": "code",
   "execution_count": 89,
   "id": "80ba814d",
   "metadata": {
    "ExecuteTime": {
     "end_time": "2022-11-24T06:24:35.876576Z",
     "start_time": "2022-11-24T06:24:35.865606Z"
    }
   },
   "outputs": [],
   "source": [
    "#pop"
   ]
  },
  {
   "cell_type": "code",
   "execution_count": 90,
   "id": "c3ea6922",
   "metadata": {
    "ExecuteTime": {
     "end_time": "2022-11-24T06:24:50.882476Z",
     "start_time": "2022-11-24T06:24:50.853519Z"
    }
   },
   "outputs": [
    {
     "data": {
      "text/plain": [
       "'apple'"
      ]
     },
     "execution_count": 90,
     "metadata": {},
     "output_type": "execute_result"
    }
   ],
   "source": [
    "a.pop()"
   ]
  },
  {
   "cell_type": "code",
   "execution_count": null,
   "id": "d68cb362",
   "metadata": {},
   "outputs": [],
   "source": []
  }
 ],
 "metadata": {
  "gist": {
   "data": {
    "description": "Untitled5.ipynb",
    "public": true
   },
   "id": ""
  },
  "kernelspec": {
   "display_name": "Python 3 (ipykernel)",
   "language": "python",
   "name": "python3"
  },
  "language_info": {
   "codemirror_mode": {
    "name": "ipython",
    "version": 3
   },
   "file_extension": ".py",
   "mimetype": "text/x-python",
   "name": "python",
   "nbconvert_exporter": "python",
   "pygments_lexer": "ipython3",
   "version": "3.9.13"
  }
 },
 "nbformat": 4,
 "nbformat_minor": 5
}
